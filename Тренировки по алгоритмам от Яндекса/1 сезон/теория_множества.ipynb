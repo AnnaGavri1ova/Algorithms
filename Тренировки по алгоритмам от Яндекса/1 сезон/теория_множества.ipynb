{
 "cells": [
  {
   "cell_type": "markdown",
   "id": "55483673",
   "metadata": {},
   "source": [
    "Ключевые особенности множеств:\n",
    "\n",
    "•  Неупорядоченность: Элементы в множестве не имеют определенного порядка.\n",
    "•  Уникальность: Множество может содержать только уникальные элементы. Если вы попытаетесь добавить дубликат, он будет проигнорирован.\n",
    "•  Изменяемость: Множества можно изменять (добавлять и удалять элементы).\n",
    "•  Хэшируемость элементов: Элементы множества должны быть хэшируемыми (immutable), например, числа, строки, кортежи. Списки и словари не могут быть элементами множества.\n",
    "\n",
    "Множества — это мощный инструмент для решения различных задач, связанных с обработкой данных, удалением дубликатов, выполнением математических операций и т.д. Понимание их свойств и методов позволяет писать более эффективный и читаемый код."
   ]
  },
  {
   "cell_type": "markdown",
   "id": "9b56c40d",
   "metadata": {},
   "source": [
    "В Python множества (sets) - это неупорядоченные коллекции уникальных элементов. Они полезны для выполнения математических операций над множествами (объединение, пересечение, разность и т.д.) и для удаления дубликатов из данных.\n",
    "\n",
    "Вот основные методы работы с множествами в Python:\n",
    "\n",
    "1. Создание множеств:\n",
    "\n",
    "•  **set():** Создает пустое множество или множество из итерируемого объекта (например, списка, кортежа, строки)."
   ]
  },
  {
   "cell_type": "code",
   "execution_count": null,
   "id": "a5bb64e0",
   "metadata": {},
   "outputs": [],
   "source": [
    "empty_set = set()  # Пустое множество\n",
    "print(empty_set) # Вывод: set()\n",
    "\n",
    "my_list = [1, 2, 2, 3, 4, 4, 5]\n",
    "my_set = set(my_list)  # Создание множества из списка (дубликаты удаляются)\n",
    "print(my_set)  # Вывод: {1, 2, 3, 4, 5}\n",
    "\n",
    "my_string = \"hello\"\n",
    "my_set_from_string = set(my_string) #Creates a set from a string\n",
    "print(my_set_from_string) # Output: {'l', 'h', 'e', 'o'}"
   ]
  },
  {
   "cell_type": "markdown",
   "id": "817c760d",
   "metadata": {},
   "source": [
    "{}: Создает множество с указанными элементами. Обратите внимание, что {} без элементов создаст пустой словарь, а не пустое множество."
   ]
  },
  {
   "cell_type": "code",
   "execution_count": null,
   "id": "0ebd175f",
   "metadata": {},
   "outputs": [],
   "source": [
    "my_set = {1, 2, 3, 4, 5}\n",
    "print(my_set)  # Вывод: {1, 2, 3, 4, 5}\n"
   ]
  },
  {
   "cell_type": "markdown",
   "id": "5adaaac7",
   "metadata": {},
   "source": [
    "2. Основные операции над множествами:\n",
    "\n",
    "•  add(element): Добавляет элемент в множество."
   ]
  },
  {
   "cell_type": "code",
   "execution_count": null,
   "id": "d664b7cf",
   "metadata": {},
   "outputs": [],
   "source": [
    "my_set = {1, 2, 3}\n",
    "my_set.add(4)\n",
    "print(my_set)  # Вывод: {1, 2, 3, 4}"
   ]
  },
  {
   "cell_type": "markdown",
   "id": "a3fcc4df",
   "metadata": {},
   "source": [
    " remove(element): Удаляет элемент из множества. Если элемента нет, вызывает KeyError."
   ]
  },
  {
   "cell_type": "code",
   "execution_count": null,
   "id": "7ff9db8d",
   "metadata": {},
   "outputs": [],
   "source": [
    "my_set = {1, 2, 3}\n",
    "my_set.remove(2)\n",
    "print(my_set)  # Вывод: {1, 3}\n",
    "\n",
    "try:\n",
    "    my_set.remove(5)  # Попытка удалить несуществующий элемент\n",
    "except KeyError as e:\n",
    "    print(f\"Ошибка: {e}\")  # Вывод: Ошибка: 5\n"
   ]
  },
  {
   "cell_type": "markdown",
   "id": "4247ab74",
   "metadata": {},
   "source": [
    "discard(element): Удаляет элемент из множества, если он там есть. Если элемента нет, ничего не делает (ошибки не возникает)."
   ]
  },
  {
   "cell_type": "code",
   "execution_count": null,
   "id": "6d5b2076",
   "metadata": {},
   "outputs": [],
   "source": [
    "my_set = {1, 2, 3}\n",
    "my_set.discard(2)\n",
    "print(my_set)  # Вывод: {1, 3}\n",
    "\n",
    "my_set.discard(5)  # Ничего не происходит\n",
    "print(my_set)  # Вывод: {1, 3}\n"
   ]
  },
  {
   "cell_type": "markdown",
   "id": "1f42de2d",
   "metadata": {},
   "source": [
    "pop(): Удаляет и возвращает произвольный элемент из множества. Если множество пустое, вызывает KeyError."
   ]
  },
  {
   "cell_type": "code",
   "execution_count": null,
   "id": "f0fb6630",
   "metadata": {},
   "outputs": [],
   "source": [
    "my_set = {1, 2, 3}\n",
    "removed_element = my_set.pop()\n",
    "print(my_set)  # Вывод: {2, 3} (порядок может быть другим)\n",
    "print(removed_element)  # Вывод: 1 (или 2, или 3 - порядок не гарантирован)\n",
    "\n",
    "try:\n",
    "    empty_set = set()\n",
    "    empty_set.pop()\n",
    "except KeyError as e:\n",
    "    print(f\"Ошибка: {e}\")  # Вывод: Ошибка: 'pop from an empty set'\n"
   ]
  },
  {
   "cell_type": "markdown",
   "id": "cd188105",
   "metadata": {},
   "source": [
    "clear(): Удаляет все элементы из множества"
   ]
  },
  {
   "cell_type": "code",
   "execution_count": null,
   "id": "f5d117f9",
   "metadata": {},
   "outputs": [],
   "source": [
    "my_set = {1, 2, 3}\n",
    "my_set.clear()\n",
    "print(my_set)  # Вывод: set()"
   ]
  },
  {
   "cell_type": "markdown",
   "id": "b69d5800",
   "metadata": {},
   "source": [
    "len(my_set): Возвращает количество элементов в множестве."
   ]
  },
  {
   "cell_type": "code",
   "execution_count": null,
   "id": "70f9aace",
   "metadata": {},
   "outputs": [],
   "source": [
    "my_set = {1, 2, 3, 4, 5}\n",
    "print(len(my_set))  # Вывод: 5"
   ]
  },
  {
   "cell_type": "markdown",
   "id": "24890962",
   "metadata": {},
   "source": [
    "3. Математические операции над множествами:\n",
    "\n",
    "Предположим, у нас есть два множества: set1 и set2.\n",
    "\n",
    "•  set1 | set2 или set1.union(set2): Объединение множеств. Возвращает новое множество, содержащее все элементы из обоих множеств."
   ]
  },
  {
   "cell_type": "code",
   "execution_count": null,
   "id": "47d72bd8",
   "metadata": {},
   "outputs": [],
   "source": [
    "set1 = {1, 2, 3}\n",
    "set2 = {3, 4, 5}\n",
    "union_set = set1 | set2\n",
    "print(union_set)  # Вывод: {1, 2, 3, 4, 5}"
   ]
  },
  {
   "cell_type": "markdown",
   "id": "f8a7fb2c",
   "metadata": {},
   "source": [
    "set1 & set2 или set1.intersection(set2): Пересечение множеств. Возвращает новое множество, содержащее только элементы, которые есть в обоих множествах."
   ]
  },
  {
   "cell_type": "code",
   "execution_count": null,
   "id": "533146de",
   "metadata": {},
   "outputs": [],
   "source": [
    "set1 = {1, 2, 3}\n",
    "set2 = {3, 4, 5}\n",
    "intersection_set = set1 & set2\n",
    "print(intersection_set)  # Вывод: {3}\n"
   ]
  },
  {
   "cell_type": "markdown",
   "id": "2158c6c8",
   "metadata": {},
   "source": [
    "set1 - set2 или set1.difference(set2): Разность множеств. Возвращает новое множество, содержащее элементы, которые есть в set1, но нет в set2."
   ]
  },
  {
   "cell_type": "code",
   "execution_count": null,
   "id": "e5dca22f",
   "metadata": {},
   "outputs": [],
   "source": [
    "set1 = {1, 2, 3}\n",
    "set2 = {3, 4, 5}\n",
    "difference_set = set1 - set2\n",
    "print(difference_set)  # Вывод: {1, 2}"
   ]
  },
  {
   "cell_type": "markdown",
   "id": "52320a58",
   "metadata": {},
   "source": [
    "set1 ^ set2 или set1.symmetric_difference(set2): Симметрическая разность. Возвращает новое множество, содержащее элементы, которые есть в одном из множеств, но не в обоих сразу"
   ]
  },
  {
   "cell_type": "code",
   "execution_count": null,
   "id": "d825d9d2",
   "metadata": {},
   "outputs": [],
   "source": [
    "set1 = {1, 2, 3}\n",
    "set2 = {3, 4, 5}\n",
    "symmetric_difference_set = set1 ^ set2\n",
    "print(symmetric_difference_set)  # Вывод: {1, 2, 4, 5}"
   ]
  },
  {
   "cell_type": "markdown",
   "id": "531818ff",
   "metadata": {},
   "source": [
    "4. Проверка отношений между множествами:\n",
    "\n",
    "•   set1.issubset(set2) или set1 <= set2: Проверяет, является ли set1 подмножеством set2.  (Все элементы set1 содержатся в set2.)"
   ]
  },
  {
   "cell_type": "code",
   "execution_count": null,
   "id": "6b20e4f4",
   "metadata": {},
   "outputs": [],
   "source": [
    "set1 = {1, 2}\n",
    "set2 = {1, 2, 3}\n",
    "print(set1.issubset(set2))  # Вывод: True\n",
    "print(set2.issubset(set1))  # Вывод: False"
   ]
  },
  {
   "cell_type": "markdown",
   "id": "4f7677b1",
   "metadata": {},
   "source": [
    "set1.issuperset(set2) или set1 >= set2: Проверяет, является ли set1 надмножеством set2. (Все элементы set2 содержатся в set1.)"
   ]
  },
  {
   "cell_type": "code",
   "execution_count": null,
   "id": "1fa6ef7c",
   "metadata": {},
   "outputs": [],
   "source": [
    "set1 = {1, 2, 3}\n",
    "set2 = {1, 2}\n",
    "print(set1.issuperset(set2))  # Вывод: True\n",
    "print(set2.issuperset(set1))  # Вывод: False"
   ]
  },
  {
   "cell_type": "markdown",
   "id": "0d7ea382",
   "metadata": {},
   "source": [
    " set1.isdisjoint(set2): Проверяет, не пересекаются ли множества set1 и set2. (Нет общих элементов.)"
   ]
  },
  {
   "cell_type": "code",
   "execution_count": null,
   "id": "a789418c",
   "metadata": {},
   "outputs": [],
   "source": [
    "set1 = {1, 2, 3}\n",
    "set2 = {4, 5, 6}\n",
    "print(set1.isdisjoint(set2))  # Вывод: True\n",
    "\n",
    "set3 = {3, 4, 5}\n",
    "print(set1.isdisjoint(set3))  # Вывод: False"
   ]
  },
  {
   "cell_type": "markdown",
   "id": "1e044932",
   "metadata": {},
   "source": [
    "5. Обновление множеств на месте (in-place):\n",
    "\n",
    "Эти методы изменяют само множество, к которому они применяются.\n",
    "\n",
    "•  set1.update(set2) или set1 |= set2: Добавляет в set1 все элементы из set2. (Объединение с присваиванием)"
   ]
  },
  {
   "cell_type": "code",
   "execution_count": null,
   "id": "6e45586a",
   "metadata": {},
   "outputs": [],
   "source": [
    "set1 = {1, 2, 3}\n",
    "set2 = {3, 4, 5}\n",
    "set1.update(set2)\n",
    "print(set1)  # Вывод: {1, 2, 3, 4, 5}"
   ]
  },
  {
   "cell_type": "markdown",
   "id": "49b31a4f",
   "metadata": {},
   "source": [
    "set1.intersection_update(set2) или set1 &= set2: Оставляет в set1 только элементы, которые есть в set2. (Пересечение с присваиванием)"
   ]
  },
  {
   "cell_type": "code",
   "execution_count": null,
   "id": "9412ce07",
   "metadata": {},
   "outputs": [],
   "source": [
    "set1 = {1, 2, 3}\n",
    "set2 = {3, 4, 5}\n",
    "set1.intersection_update(set2)\n",
    "print(set1)  # Вывод: {3}"
   ]
  },
  {
   "cell_type": "markdown",
   "id": "fada055b",
   "metadata": {},
   "source": [
    " set1.difference_update(set2) или set1 -= set2: Удаляет из set1 все элементы, которые есть в set2. (Разность с присваиванием)"
   ]
  },
  {
   "cell_type": "code",
   "execution_count": null,
   "id": "baa64a1c",
   "metadata": {},
   "outputs": [],
   "source": [
    "set1 = {1, 2, 3}\n",
    "set2 = {3, 4, 5}\n",
    "set1.difference_update(set2)\n",
    "print(set1)  # Вывод: {1, 2}"
   ]
  },
  {
   "cell_type": "markdown",
   "id": "d987cfd5",
   "metadata": {},
   "source": [
    "set1.symmetric_difference_update(set2) или set1 ^= set2: Оставляет в set1 только элементы, которые есть в одном из множеств, но не в обоих сразу. (Симметрическая разность с присваиванием)"
   ]
  },
  {
   "cell_type": "code",
   "execution_count": null,
   "id": "9dcc744c",
   "metadata": {},
   "outputs": [],
   "source": [
    "set1 = {1, 2, 3}\n",
    "set2 = {3, 4, 5}\n",
    "set1.symmetric_difference_update(set2)\n",
    "print(set1)  # Вывод: {1, 2, 4, 5}"
   ]
  }
 ],
 "metadata": {
  "kernelspec": {
   "display_name": "base",
   "language": "python",
   "name": "python3"
  },
  "language_info": {
   "name": "python",
   "version": "3.10.10"
  }
 },
 "nbformat": 4,
 "nbformat_minor": 5
}
